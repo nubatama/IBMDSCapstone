{
 "cells": [
  {
   "cell_type": "markdown",
   "metadata": {},
   "source": [
    "Analysis Car Accident Severity at Seattle  \n",
    "==============  \n",
    "\n",
    "This notebook describe snalysis of car accident severity at seattle."
   ]
  },
  {
   "cell_type": "markdown",
   "metadata": {},
   "source": [
    "#  Introduction/Business Problem  \n",
    "In this report, we will analyze the relationship between the severity of a collision and the situation from the data of a car crash in Seattle.  \n",
    "By clarifying the factors that lead to more serious accidents, we provide the following information.  \n",
    "\n",
    "- Presenting drivers with factors to keep in mind to avoid serious accidents  \n",
    "- Presenting to road managers factors to take useful measures to prevent serious accidents  \n",
    "\n"
   ]
  },
  {
   "cell_type": "markdown",
   "metadata": {},
   "source": [
    "# Data  \n",
    "In this report use \"Collisions—All Years\" data, provide by SDOT Traffic Management Division, Traffic Records Group.  \n",
    "This data provide all types of collisions information, occurred from 2004 to Present.  \n",
    "This data include severity of collisions and collision information, ex: road condition, light condition, jucntion type, and so on."
   ]
  },
  {
   "cell_type": "code",
   "execution_count": null,
   "metadata": {},
   "outputs": [],
   "source": []
  },
  {
   "cell_type": "code",
   "execution_count": null,
   "metadata": {},
   "outputs": [],
   "source": []
  },
  {
   "cell_type": "code",
   "execution_count": null,
   "metadata": {},
   "outputs": [],
   "source": []
  },
  {
   "cell_type": "code",
   "execution_count": null,
   "metadata": {},
   "outputs": [],
   "source": []
  },
  {
   "cell_type": "code",
   "execution_count": null,
   "metadata": {},
   "outputs": [],
   "source": []
  }
 ],
 "metadata": {
  "kernelspec": {
   "display_name": "Python 3",
   "language": "python",
   "name": "python3"
  },
  "language_info": {
   "codemirror_mode": {
    "name": "ipython",
    "version": 3
   },
   "file_extension": ".py",
   "mimetype": "text/x-python",
   "name": "python",
   "nbconvert_exporter": "python",
   "pygments_lexer": "ipython3",
   "version": "3.8.3"
  }
 },
 "nbformat": 4,
 "nbformat_minor": 4
}
